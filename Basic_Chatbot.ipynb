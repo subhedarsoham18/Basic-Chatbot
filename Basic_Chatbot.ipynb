{
  "nbformat": 4,
  "nbformat_minor": 0,
  "metadata": {
    "colab": {
      "provenance": [],
      "authorship_tag": "ABX9TyOQPPQBca3jMts6SGypnpKC",
      "include_colab_link": true
    },
    "kernelspec": {
      "name": "python3",
      "display_name": "Python 3"
    },
    "language_info": {
      "name": "python"
    }
  },
  "cells": [
    {
      "cell_type": "markdown",
      "metadata": {
        "id": "view-in-github",
        "colab_type": "text"
      },
      "source": [
        "<a href=\"https://colab.research.google.com/github/subhedarsoham18/Basic-Chatbot/blob/main/Basic_Chatbot.ipynb\" target=\"_parent\"><img src=\"https://colab.research.google.com/assets/colab-badge.svg\" alt=\"Open In Colab\"/></a>"
      ]
    },
    {
      "cell_type": "code",
      "execution_count": 1,
      "metadata": {
        "colab": {
          "base_uri": "https://localhost:8080/"
        },
        "id": "Q0Jo-hyPZmYN",
        "outputId": "3c4cfa2b-ad91-49aa-cc46-cfa2220032b3"
      },
      "outputs": [
        {
          "output_type": "stream",
          "name": "stdout",
          "text": [
            "Chatbot: Hi! I'm your assistant. Type 'bye' to end the chat.\n",
            "You: hi\n",
            "Chatbot: Hello! How can I help you?\n",
            "You: how are you?\n",
            "Chatbot: I'm just a program, but I'm functioning well!\n",
            "You: what is your name?\n",
            "Chatbot: I'm a simple rule-based chatbot.\n",
            "You: help me by telling about nature\n",
            "Chatbot: I can answer basic questions. Try asking about my name, how I am, etc.\n",
            "You: ok,bye\n",
            "Chatbot: Sorry, I didn't understand that.\n",
            "You: bye\n",
            "Chatbot: Goodbye! Have a nice day.\n"
          ]
        }
      ],
      "source": [
        "print(\"Chatbot: Hi! I'm your assistant. Type 'bye' to end the chat.\")\n",
        "\n",
        "while True:\n",
        "    user_input = input(\"You: \").lower()\n",
        "\n",
        "    if user_input == \"bye\":\n",
        "        print(\"Chatbot: Goodbye! Have a nice day.\")\n",
        "        break\n",
        "    elif \"hello\" in user_input or \"hi\" in user_input:\n",
        "        print(\"Chatbot: Hello! How can I help you?\")\n",
        "    elif \"how are you\" in user_input:\n",
        "        print(\"Chatbot: I'm just a program, but I'm functioning well!\")\n",
        "    elif \"your name\" in user_input:\n",
        "        print(\"Chatbot: I'm a simple rule-based chatbot.\")\n",
        "    elif \"help\" in user_input:\n",
        "        print(\"Chatbot: I can answer basic questions. Try asking about my name, how I am, etc.\")\n",
        "    else:\n",
        "        print(\"Chatbot: Sorry, I didn't understand that.\")\n"
      ]
    }
  ]
}